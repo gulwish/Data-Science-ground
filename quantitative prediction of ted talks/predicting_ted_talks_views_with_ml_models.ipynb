{
  "cells": [
    {
      "cell_type": "markdown",
      "metadata": {
        "id": "28LtXddxqIm_"
      },
      "source": [
        "# Predicting TED Talks Views with ML Models\n",
        "In this notebook I've done some simple feature engineering on the TED Talks dataset and I've built machine learning models (Random Forest, XGBRegressor, ExtraTreesRegressor, and LGBMRegressor) and optimised their hyperparameters to predict the number of TED Talks views. I've made use of the following kernels to create this notebook:\n",
        "* https://www.kaggle.com/rounakbanik/ted-data-analysis\n",
        "* https://www.kaggle.com/holfyuen/what-makes-a-popular-ted-talk\n",
        "* https://www.kaggle.com/tristanmoser/predicting-a-powerful-idea-a-ted-talk-analysis\n",
        "\n"
      ]
    },
    {
      "cell_type": "code",
      "execution_count": null,
      "metadata": {
        "_cell_guid": "79c7e3d0-c299-4dcb-8224-4455121ee9b0",
        "_uuid": "d629ff2d2480ee46fbb7e2d37f6b5fab8052498a",
        "colab": {
          "base_uri": "https://localhost:8080/"
        },
        "id": "At_MbdFrqInU",
        "outputId": "dfe10bab-a7ea-48fc-ac85-6af81fd492b1"
      },
      "outputs": [
        {
          "output_type": "execute_result",
          "data": {
            "text/plain": [
              "(2550, 17)"
            ]
          },
          "metadata": {},
          "execution_count": 27
        }
      ],
      "source": [
        "\n",
        "import os \n",
        "os.environ['KAGGLE_CONFIG_DIR']='/content'\n",
        "\n",
        "# load libraries\n",
        "import time\n",
        "import warnings\n",
        "import random\n",
        "import pandas as pd\n",
        "import datetime\n",
        "#import lightgbm as lgb\n",
        "import xgboost as xgb\n",
        "import seaborn as sns\n",
        "import numpy as np\n",
        "from matplotlib import pyplot as plt\n",
        "from sklearn.ensemble import RandomForestRegressor\n",
        "from sklearn.model_selection import train_test_split\n",
        "# GridSearchCV\n",
        "from sklearn.ensemble import ExtraTreesRegressor\n",
        "from sklearn import metrics\n",
        "#from mlxtend.regressor import StackingCVRegressor\n",
        "\n",
        "# ignore warnings\n",
        "warnings.filterwarnings('ignore')\n",
        "\n",
        "# load data\n",
        "data = pd.read_csv(\"/content/ted_main.csv\")\n",
        "data.shape"
      ]
    },
    {
      "cell_type": "code",
      "execution_count": null,
      "metadata": {
        "id": "9RhsLE9_qIni"
      },
      "outputs": [],
      "source": [
        "data.head()"
      ]
    },
    {
      "cell_type": "code",
      "source": [
        "from google.colab import drive\n",
        "drive.mount('/content/drive')"
      ],
      "metadata": {
        "id": "R7gSUMqlslAG",
        "colab": {
          "base_uri": "https://localhost:8080/"
        },
        "outputId": "d4d331e4-2121-4efa-ca78-61d00b2d3acc"
      },
      "execution_count": null,
      "outputs": [
        {
          "output_type": "stream",
          "name": "stdout",
          "text": [
            "Mounted at /content/drive\n"
          ]
        }
      ]
    },
    {
      "cell_type": "markdown",
      "metadata": {
        "id": "OM2GSs4dqIno"
      },
      "source": [
        "# TED Talks Data Analysis\n",
        "## Cleaning up the data\n",
        "Various datasets frequently have missing values, so I start off by checking whether the TED Talks dataset has any. "
      ]
    },
    {
      "cell_type": "code",
      "execution_count": null,
      "metadata": {
        "id": "iCemah7dqInq",
        "colab": {
          "base_uri": "https://localhost:8080/"
        },
        "outputId": "a3c7b0f6-0fa5-471a-d045-e34771bcc04a"
      },
      "outputs": [
        {
          "output_type": "execute_result",
          "data": {
            "text/plain": [
              "comments              0\n",
              "description           0\n",
              "duration              0\n",
              "event                 0\n",
              "film_date             0\n",
              "languages             0\n",
              "main_speaker          0\n",
              "name                  0\n",
              "num_speaker           0\n",
              "published_date        0\n",
              "ratings               0\n",
              "related_talks         0\n",
              "speaker_occupation    6\n",
              "tags                  0\n",
              "title                 0\n",
              "url                   0\n",
              "views                 0\n",
              "dtype: int64"
            ]
          },
          "metadata": {},
          "execution_count": 6
        }
      ],
      "source": [
        "pd.isnull(data).sum()"
      ]
    },
    {
      "cell_type": "markdown",
      "metadata": {
        "id": "XIjdEwFJqInu"
      },
      "source": [
        "There are only 6 null values in the **speaker_occupation** feature, I will fill in those missing values with a default 'Other' value."
      ]
    },
    {
      "cell_type": "code",
      "execution_count": null,
      "metadata": {
        "id": "y7eo1zeFqIn1"
      },
      "outputs": [],
      "source": [
        "for index, row in data.iterrows():\n",
        "    if pd.isnull(row['speaker_occupation']):\n",
        "        data['speaker_occupation'][index] = 'Other'"
      ]
    },
    {
      "cell_type": "markdown",
      "metadata": {
        "id": "MiaClj0iqIn3"
      },
      "source": [
        "## related_talks\n",
        "Here I print out the **related_talks** feature so I check what it looks like."
      ]
    },
    {
      "cell_type": "code",
      "execution_count": null,
      "metadata": {
        "id": "k1-lf5onqIn6",
        "colab": {
          "base_uri": "https://localhost:8080/",
          "height": 105
        },
        "outputId": "249222e8-2c0c-40b6-a2c2-2533108f467a"
      },
      "outputs": [
        {
          "output_type": "execute_result",
          "data": {
            "text/plain": [
              "'[{\\'id\\': 865, \\'hero\\': \\'https://pe.tedcdn.com/images/ted/172559_800x600.jpg\\', \\'speaker\\': \\'Ken Robinson\\', \\'title\\': \\'Bring on the learning revolution!\\', \\'duration\\': 1008, \\'slug\\': \\'sir_ken_robinson_bring_on_the_revolution\\', \\'viewed_count\\': 7266103}, {\\'id\\': 1738, \\'hero\\': \\'https://pe.tedcdn.com/images/ted/de98b161ad1434910ff4b56c89de71af04b8b873_1600x1200.jpg\\', \\'speaker\\': \\'Ken Robinson\\', \\'title\\': \"How to escape education\\'s death valley\", \\'duration\\': 1151, \\'slug\\': \\'ken_robinson_how_to_escape_education_s_death_valley\\', \\'viewed_count\\': 6657572}, {\\'id\\': 2276, \\'hero\\': \\'https://pe.tedcdn.com/images/ted/3821f3728e0b755c7b9aea2e69cc093eca41abe1_2880x1620.jpg\\', \\'speaker\\': \\'Linda Cliatt-Wayman\\', \\'title\\': \\'How to fix a broken school? Lead fearlessly, love hard\\', \\'duration\\': 1027, \\'slug\\': \\'linda_cliatt_wayman_how_to_fix_a_broken_school_lead_fearlessly_love_hard\\', \\'viewed_count\\': 1617101}, {\\'id\\': 892, \\'hero\\': \\'https://pe.tedcdn.com/images/ted/e79958940573cc610ccb583619a54866c41ef303_2880x1620.jpg\\', \\'speaker\\': \\'Charles Leadbeater\\', \\'title\\': \\'Education innovation in the slums\\', \\'duration\\': 1138, \\'slug\\': \\'charles_leadbeater_on_education\\', \\'viewed_count\\': 772296}, {\\'id\\': 1232, \\'hero\\': \\'https://pe.tedcdn.com/images/ted/0e3e4e92d5ee8ae0e43962d447d3f790b31099b8_800x600.jpg\\', \\'speaker\\': \\'Geoff Mulgan\\', \\'title\\': \\'A short intro to the Studio School\\', \\'duration\\': 376, \\'slug\\': \\'geoff_mulgan_a_short_intro_to_the_studio_school\\', \\'viewed_count\\': 667971}, {\\'id\\': 2616, \\'hero\\': \\'https://pe.tedcdn.com/images/ted/71cde5a6fa6c717488fb55eff9eef939a9241761_2880x1620.jpg\\', \\'speaker\\': \\'Kandice Sumner\\', \\'title\\': \"How America\\'s public schools keep kids in poverty\", \\'duration\\': 830, \\'slug\\': \\'kandice_sumner_how_america_s_public_schools_keep_kids_in_poverty\\', \\'viewed_count\\': 1181333}]'"
            ],
            "application/vnd.google.colaboratory.intrinsic+json": {
              "type": "string"
            }
          },
          "metadata": {},
          "execution_count": 8
        }
      ],
      "source": [
        "data['related_talks'][0]"
      ]
    },
    {
      "cell_type": "markdown",
      "metadata": {
        "id": "D0hG5gAtqIn8"
      },
      "source": [
        "After that I split the string by its commas and then by the semi-column to get the middle element, which is the views of all related talks."
      ]
    },
    {
      "cell_type": "code",
      "execution_count": null,
      "metadata": {
        "id": "nRPM2-PDqIn-"
      },
      "outputs": [],
      "source": [
        "data['related_views'] = 0\n",
        "\n",
        "for index, row in data.iterrows():\n",
        "    vids = row['related_talks'].split(',')\n",
        "    counter = 0\n",
        "    total = 0\n",
        "    for views in vids:\n",
        "        if 'viewed_count' in views:\n",
        "            view = views.split(':')\n",
        "            # get rid of brackets and spaces\n",
        "            view[1] = view[1].replace(\"]\", \"\")\n",
        "            view[1] = view[1].replace(\" \", \"\")\n",
        "            view[1] = view[1].replace(\"}\", \"\")\n",
        "            total+=int(view[1])\n",
        "            counter+=1\n",
        "    data['related_views'][index] = total/counter"
      ]
    },
    {
      "cell_type": "markdown",
      "metadata": {
        "id": "3-C8ddQTqIoA"
      },
      "source": [
        "## published_date, filmed_date\n",
        "From these two features I extract day of the week, month, and year."
      ]
    },
    {
      "cell_type": "code",
      "execution_count": null,
      "metadata": {
        "id": "iOTPQy0pqIoB"
      },
      "outputs": [],
      "source": [
        "data['published_date'] = data['published_date'].apply(lambda x: datetime.date.fromtimestamp(int(x)))\n",
        "data['day'] = data['published_date'].apply(lambda x: x.weekday())\n",
        "data['month'] = data['published_date'].apply(lambda x: x.month)\n",
        "data['year'] = data['published_date'].apply(lambda x: x.year)\n",
        "data['film_date'] = data['film_date'].apply(lambda x: datetime.date.fromtimestamp(int(x)))\n",
        "data['day_film'] = data['film_date'].apply(lambda x: x.weekday())\n",
        "data['month_film'] = data['film_date'].apply(lambda x: x.month)\n",
        "data['year_film'] = data['film_date'].apply(lambda x: x.year)"
      ]
    },
    {
      "cell_type": "markdown",
      "metadata": {
        "id": "MHUyGJ46qIoD"
      },
      "source": [
        "Here I categorise the data which is preferable over using numbers."
      ]
    },
    {
      "cell_type": "code",
      "execution_count": null,
      "metadata": {
        "id": "rbNw-6HcqIoE"
      },
      "outputs": [],
      "source": [
        "to_cat = {\"day\":   {0: \"Monday\", 1: \"Tuesday\", 2: \"Wednesday\", 3: \"Thurday\", 4: \"Friday\", 5: \"Saturday\",\n",
        "                    6: \"Sunday\" },\n",
        "          \"month\": {1: \"January\", 2: \"February\", 3: \"March\", 4: \"April\", 5: \"May\", 6: \"June\", 7: \"July\", 8: \"August\", \n",
        "                    9: \"September\", 10: \"October\", 11: \"November\", 12: \"December\"},\n",
        "          \"year\":  {2006: \"2006\", 2007: \"2007\", 2008: \"2008\", 2009: \"2009\", 2010: \"2010\", 2011: \"2011\", 2012: \"2012\", \n",
        "                    2013: \"2013\", 2014: \"2014\", 2015: \"2015\", 2016: \"2016\", 2017: \"2017\"},\n",
        "          \"day_film\":   {0: \"Monday\", 1: \"Tuesday\", 2: \"Wednesday\", 3: \"Thurday\", 4: \"Friday\", 5: \"Saturday\",\n",
        "                    6: \"Sunday\" },\n",
        "          \"month_film\": {1: \"January\", 2: \"February\", 3: \"March\", 4: \"April\", 5: \"May\", 6: \"June\", 7: \"July\", 8: \"August\", \n",
        "                    9: \"September\", 10: \"October\", 11: \"November\", 12: \"December\"},\n",
        "          \"year_film\":  {2006: \"2006\", 2007: \"2007\", 2008: \"2008\", 2009: \"2009\", 2010: \"2010\", 2011: \"2011\", 2012: \"2012\", \n",
        "                    2013: \"2013\", 2014: \"2014\", 2015: \"2015\", 2016: \"2016\", 2017: \"2017\"}}\n",
        "\n",
        "data.replace(to_cat, inplace=True)"
      ]
    },
    {
      "cell_type": "markdown",
      "metadata": {
        "id": "V4Dao7mOqIoG"
      },
      "source": [
        "## event\n",
        "I check the number of unique event names then list all of them:"
      ]
    },
    {
      "cell_type": "code",
      "execution_count": null,
      "metadata": {
        "id": "mToXQx-XqIoH",
        "colab": {
          "base_uri": "https://localhost:8080/"
        },
        "outputId": "35dcaffd-337c-4b65-b4f8-379281b9fc6c"
      },
      "outputs": [
        {
          "output_type": "stream",
          "name": "stdout",
          "text": [
            "Number of unique events:  355\n"
          ]
        },
        {
          "output_type": "execute_result",
          "data": {
            "text/plain": [
              "array(['TED2006', 'TED2004', 'TED2005', 'TEDGlobal 2005', 'TEDSalon 2006',\n",
              "       'TED2003', 'TED2007', 'TED2002', 'TEDGlobal 2007',\n",
              "       'TEDSalon 2007 Hot Science', 'Skoll World Forum 2007', 'TED2008',\n",
              "       'TED1984', 'TED1990', 'DLD 2007', 'EG 2007', 'TED1998',\n",
              "       'LIFT 2007', 'TED Prize Wish', 'TEDSalon 2009 Compassion',\n",
              "       'Chautauqua Institution', 'Serious Play 2008', 'Taste3 2008',\n",
              "       'TED2001', 'TED in the Field', 'TED2009', 'EG 2008',\n",
              "       'Elizabeth G. Anderson School', 'TEDxUSC', 'TED@State',\n",
              "       'TEDGlobal 2009', 'TEDxKC', 'TEDIndia 2009',\n",
              "       'TEDSalon London 2009', 'Justice with Michael Sandel',\n",
              "       'Business Innovation Factory', 'TEDxTC',\n",
              "       'Carnegie Mellon University', 'Stanford University',\n",
              "       'AORN Congress', 'University of California', 'TEDMED 2009',\n",
              "       'Royal Institution', 'Bowery Poetry Club', 'TEDxSMU',\n",
              "       'Harvard University', 'TEDxBoston 2009', 'TEDxBerlin', 'TED2010',\n",
              "       'TEDxAmsterdam', 'World Science Festival', 'BBC TV',\n",
              "       'Arbejdsglaede Live', 'Web 2.0 Expo 2008', 'TEDxNASA',\n",
              "       'Michael Howard Studios', 'DICE Summit 2010',\n",
              "       \"Eric Whitacre's Virtual Choir\", 'Mission Blue Voyage',\n",
              "       'TEDxPuget Sound ', 'TEDxNYED', 'Toronto Youth Corps',\n",
              "       'TEDSalon London 2010', 'TEDxEdmonton', 'TED@Cannes',\n",
              "       'TEDxAtlanta', 'TEDxEast', 'TEDxOilSpill', 'TEDGlobal 2010',\n",
              "       'Princeton University', 'New York State Senate', 'TEDxBoston 2010',\n",
              "       'RSA Animate', 'TEDxYYC', 'Gel Conference', 'The Do Lectures',\n",
              "       'TEDxChange', 'TED Senior Fellows at TEDGlobal 2010',\n",
              "       'Fort Worth City Council', 'TEDxTelAviv 2010', 'TEDxDU 2010',\n",
              "       'TEDxMidwest', 'TEDxHouston', 'TEDxNextGenerationAsheville',\n",
              "       'TEDxRotterdam 2010', 'TEDWomen 2010', 'TEDxMidAtlantic',\n",
              "       'TEDxSydney', 'TEDSalon NY2011', 'TEDxRainier', 'TEDxToronto 2010',\n",
              "       'TEDxPSU', 'TEDMED 2010', 'TEDxGreatPacificGarbagePatch',\n",
              "       'TEDxGöteborg 2010', 'TEDxToronto 2011', 'TED@MotorCity',\n",
              "       'TEDxPennQuarter', 'TEDPrize@UN', 'TED2011', 'TEDxPeachtree',\n",
              "       'TEDxDubai', 'TEDActive 2011', 'INK Conference', 'TEDxCaltech',\n",
              "       'TEDxWarwick', 'Handheld Learning', 'TEDxSiliconValley',\n",
              "       'TEDxNorthwesternU', 'TEDxMaastricht', 'TEDxBG',\n",
              "       'Full Spectrum Auditions', 'TEDSalon London Spring 2011',\n",
              "       'TEDxSanMigueldeAllende', 'TEDGlobal 2011', 'TEDxBoston 2011',\n",
              "       'TEDxParis 2010', 'NextGen:Charity', 'TEDxUIUC',\n",
              "       'TEDxThessaloniki', \"TEDxO'Porto\", 'TEDxBloomington',\n",
              "       'TEDxSantaCruz', 'TEDxWaterloo', 'TEDxManhattanBeach',\n",
              "       'TEDxKids@Brussels', 'TEDxTeen', 'TEDxBoulder 2011',\n",
              "       'TEDxManhattan', 'TEDxOrangeCoast', 'TEDxBrussels', 'TEDMED 2011',\n",
              "       'TEDxKrakow', 'TEDxCMU', 'TEDxVienna', 'TEDxDU 2011', 'TEDxDirigo',\n",
              "       'TEDxCanberra', 'TEDxRC2', 'TEDxWomen 2011', 'TEDxZurich 2011',\n",
              "       'TEDSalon NY2012', 'TEDxMIA', 'TEDxNASA@SiliconValley',\n",
              "       'TEDxYouth@Manchester', 'TED1994', 'TEDxVancouver',\n",
              "       'TEDSalon London Fall 2011', 'TEDxIslay', 'TEDxAmericanRiviera',\n",
              "       'TEDxDublin', 'TEDxVictoria', 'TEDxPhoenix', 'TEDxAsheville',\n",
              "       'TEDYouth 2011', 'TED2012', 'TEDxUW', 'TED-Ed', 'TEDxCambridge',\n",
              "       'TEDxPortofSpain', 'TEDxNewy', 'TEDxPittsburgh', 'TEDxObserver',\n",
              "       'TEDxConcordiaUPortland', 'TEDxAthens', 'TED@SXSWi', 'TEDxAustin',\n",
              "       'TEDxMonterey', 'TEDxSummit', 'TEDxBerkeley',\n",
              "       'TEDxHogeschoolUtrecht', 'TEDxSanJoseCA', 'TEDxSussexUniversity',\n",
              "       'TEDMED 2012', 'TEDSalon London Spring 2012', 'TEDxGrandRapids',\n",
              "       'TEDxABQ', 'TEDxSanDiego', 'TEDxLondonBusinessSchool',\n",
              "       'TEDGlobal 2012', 'TEDxStanford', 'TEDxImperialCollege',\n",
              "       'TEDxBoston 2012', 'TEDxUCL', 'TEDxExeter', 'TEDxMaui',\n",
              "       'TEDxHousesOfParliament', 'TED@London', 'TEDxWinnipeg',\n",
              "       'TED@Bangalore', 'TED@New York', 'TEDxCHUV', 'TEDxSF',\n",
              "       'TEDxEQChCh', 'TEDxHelvetia', 'TED@Nairobi', 'TEDxGeorgetown',\n",
              "       'TED@Johannesburg', 'TEDxZurich 2012', 'TEDSalon London Fall 2012',\n",
              "       'TEDxWitsUniversity', 'TEDxJaffa 2012', 'TEDxWomen 2012',\n",
              "       'TEDxHampshireCollege', 'TEDxGoodenoughCollege', 'TEDxGlasgow',\n",
              "       'TEDxBeaconStreet', 'SoulPancake', 'TEDxDelft', 'TEDSalon NY2013',\n",
              "       'TEDxSeoul', 'TEDxConcorde', 'TED2013', 'TEDYouth 2012',\n",
              "       'TEDxSeattleU', 'TEDxRiodelaPlata', 'TED@Intel',\n",
              "       'TED Talks Education', 'TEDxMiamiUniversity', 'TEDxFiDiWomen',\n",
              "       'TEDxDeExtinction', 'TEDMED 2013', 'TEDGlobal 2013', 'TEDxCERN',\n",
              "       'TEDxNijmegen', 'TEDxColbyCollege', 'TEDxDanubia', 'TEDxTokyo',\n",
              "       'TEDxBoston', 'TEDxKids@Ambleside', 'TEDCity2.0', 'TEDxUdeM',\n",
              "       'TED@BCG Singapore', 'TED@NYC', 'TEDWomen 2013', 'TEDYouth 2013',\n",
              "       'TEDxBratislava', 'TED@BCG San Francisco', 'TEDxMet', 'TEDxMarin',\n",
              "       'TEDxBeirut', 'TED@State Street Boston', 'TEDxCaFoscariU',\n",
              "       'TEDxJaffa 2013', 'TEDxZurich 2013', 'TED Fellows Retreat 2013',\n",
              "       'TEDxParis 2012', 'TEDxBoulder', 'TED2014', 'TEDxMidAtlantic 2013',\n",
              "       'TEDxPerth', 'TEDxUMKC', 'TEDxLeuvenSalon', 'TEDActive 2014',\n",
              "       'TEDSalon NY2014', 'TEDxUofM', 'TEDxColumbus',\n",
              "       'TEDSalon Berlin 2014', 'TEDxKyoto', 'TEDxClaremontColleges',\n",
              "       'TEDxMonroeCorrectionalComplex', 'TEDxBrighton',\n",
              "       'TEDxSonomaCounty', 'TEDxAmazonia', 'TED@Unilever', 'TEDMED 2014',\n",
              "       'TEDGlobal 2014', 'TED@IBM', 'TEDxNewYork', 'TED@BCG Berlin',\n",
              "       'TEDxArendal', 'TEDxNorrkoping', 'TEDYouth 2014',\n",
              "       'TED@State Street London', 'TEDxPlaceDesNations',\n",
              "       'TEDxBinghamtonUniversity', 'TEDxLinnaeusUniversity', 'TEDxSBU',\n",
              "       'TED2015', 'TEDxMuncyStatePrison', 'TEDxSouthBank',\n",
              "       'TEDWomen 2015', 'TEDSalon NY2015', 'TEDGlobalLondon',\n",
              "       'TEDxIndianapolis', 'TED@BCG London', 'TEDxChapmanU',\n",
              "       'TEDxGoldenGatePark 2012', 'TEDxUF', 'TEDxBend',\n",
              "       'TEDGlobal>London', 'TEDxPenn', 'TEDxProvidence',\n",
              "       'TED Fellows Retreat 2015', 'TED Fellows 2015', 'TEDxOslo',\n",
              "       'TEDxCannes', 'Mission Blue II', 'TED@UPS', 'TEDxToulouse',\n",
              "       'TEDYouth 2015', 'TEDxGroningen', 'TEDGlobal>Geneva',\n",
              "       'TEDxYouth@Sydney', 'TEDxAmoskeagMillyard', 'TEDMED 2015',\n",
              "       'TEDxUM', 'TEDxCreativeCoast', 'TED2016', 'TED@StateStreet Boston',\n",
              "       'TED Talks Live', 'Global Witness HQ', 'TED Studio',\n",
              "       'TEDActive 2015', 'TEDxGatewayWomen', 'TEDxEastEnd',\n",
              "       'TED@BCG Paris', 'TEDSummit', 'TEDxDesMoines',\n",
              "       'TEDxColoradoSprings', 'TEDNYC', 'TEDxUniversityofNevada',\n",
              "       'TEDxMontreal', 'TEDxIndianaUniversity', 'TEDWomen 2016',\n",
              "       'TED Residency', 'TEDxToronto', 'TEDxMtHood', 'TEDxGhent',\n",
              "       'TEDxSaltLakeCity', 'TEDxOmaha', 'TEDxSFU', 'TEDMED 2016',\n",
              "       'TEDxPortland', 'TEDxManchester', 'TEDxMileHigh', 'TED Dialogues',\n",
              "       'TEDxNatick', 'TEDxFrankfurt', 'TED-Ed Weekend',\n",
              "       'TEDxColumbusWomen', 'TEDxEuston', 'TEDxSanQuentin',\n",
              "       'TEDLagos Ideas Search', 'TEDxVirginiaTech', 'TED2017',\n",
              "       'TEDxSkoll', 'TEDNairobi Ideas Search', 'TEDxFulbrightDublin',\n",
              "       'TEDxOrcasIsland', 'TEDxPennsylvaniaAvenue', 'TEDxCrenshaw',\n",
              "       'TEDxHamburg', 'TEDGlobal 2017', 'TEDxZurich'], dtype=object)"
            ]
          },
          "metadata": {},
          "execution_count": 12
        }
      ],
      "source": [
        "print('Number of unique events: ',data['event'].unique().shape[0])\n",
        "data['event'].unique()"
      ]
    },
    {
      "cell_type": "markdown",
      "metadata": {
        "id": "PDePSJ4CqIoJ"
      },
      "source": [
        "The dataset has 355 unique event names but from the looks of it, lots of these names can be categorised together as they are quite similar. I break down the event names in the following 11 categories (each consisting of at least 5 samples)."
      ]
    },
    {
      "cell_type": "code",
      "execution_count": null,
      "metadata": {
        "id": "AQBuhN6AqIoK"
      },
      "outputs": [],
      "source": [
        "# initialise all values as 'Other' to assign this category\n",
        "# to all entries that don't fit into the chosen categories\n",
        "data['event_category'] = 'Other'\n",
        "\n",
        "for i in range(len(data)):\n",
        "    if data['event'][i][0:5]=='TED20':\n",
        "        data['event_category'][i] = 'TED2000s'\n",
        "    elif data['event'][i][0:5]=='TED19':\n",
        "        data['event_category'][i] = 'TED1900s'\n",
        "    elif data['event'][i][0:4]=='TEDx':\n",
        "        data['event_category'][i] = \"TEDx\"\n",
        "    elif data['event'][i][0:7]=='TED@BCG':\n",
        "        data['event_category'][i] = 'TED@BCG'\n",
        "    elif data['event'][i][0:4]=='TED@':\n",
        "        data['event_category'][i] = \"TED@\"\n",
        "    elif data['event'][i][0:8]=='TEDSalon':\n",
        "        data['event_category'][i] = \"TEDSalon\"\n",
        "    elif data['event'][i][0:9]=='TEDGlobal':\n",
        "        data['event_category'][i] = 'TEDGlobal'\n",
        "    elif data['event'][i][0:8]=='TEDWomen':\n",
        "        data['event_category'][i] = 'TEDWomen'\n",
        "    elif data['event'][i][0:6]=='TEDMED':\n",
        "        data['event_category'][i] = 'TEDMED'\n",
        "    elif data['event'][i][0:3]=='TED':\n",
        "        data['event_category'][i] = 'TEDOther'"
      ]
    },
    {
      "cell_type": "markdown",
      "metadata": {
        "id": "m-o4GqIuqIoL"
      },
      "source": [
        "I check whether each categoies can be found in the dataset."
      ]
    },
    {
      "cell_type": "code",
      "execution_count": null,
      "metadata": {
        "id": "k2ynl1n2qIoN",
        "colab": {
          "base_uri": "https://localhost:8080/"
        },
        "outputId": "62e5a167-da05-4dc8-c2e3-6a936e5418e2"
      },
      "outputs": [
        {
          "output_type": "execute_result",
          "data": {
            "text/plain": [
              "array(['TED2000s', 'TEDGlobal', 'TEDSalon', 'Other', 'TED1900s',\n",
              "       'TEDOther', 'TEDx', 'TED@', 'TEDMED', 'TEDWomen', 'TED@BCG'],\n",
              "      dtype=object)"
            ]
          },
          "metadata": {},
          "execution_count": 14
        }
      ],
      "source": [
        "data['event_category'].unique()"
      ]
    },
    {
      "cell_type": "code",
      "source": [
        "data.head(1)\n"
      ],
      "metadata": {
        "id": "qqrPYYIH4vwZ",
        "colab": {
          "base_uri": "https://localhost:8080/",
          "height": 261
        },
        "outputId": "cdbc161a-8fc3-4bd7-d14f-71bfbba9520a"
      },
      "execution_count": null,
      "outputs": [
        {
          "output_type": "execute_result",
          "data": {
            "text/plain": [
              "   comments                                        description  duration  \\\n",
              "0      4553  Sir Ken Robinson makes an entertaining and pro...      1164   \n",
              "\n",
              "     event   film_date  languages  main_speaker  \\\n",
              "0  TED2006  2006-02-25         60  Ken Robinson   \n",
              "\n",
              "                                        name  num_speaker published_date  ...  \\\n",
              "0  Ken Robinson: Do schools kill creativity?            1     2006-06-27  ...   \n",
              "\n",
              "                                                 url     views related_views  \\\n",
              "0  https://www.ted.com/talks/ken_robinson_says_sc...  47227110       3027062   \n",
              "\n",
              "       day month  year  day_film  month_film year_film event_category  \n",
              "0  Tuesday  June  2006  Saturday    February      2006       TED2000s  \n",
              "\n",
              "[1 rows x 25 columns]"
            ],
            "text/html": [
              "\n",
              "  <div id=\"df-0db743a5-fc77-46fe-80bb-cda03f4d7956\">\n",
              "    <div class=\"colab-df-container\">\n",
              "      <div>\n",
              "<style scoped>\n",
              "    .dataframe tbody tr th:only-of-type {\n",
              "        vertical-align: middle;\n",
              "    }\n",
              "\n",
              "    .dataframe tbody tr th {\n",
              "        vertical-align: top;\n",
              "    }\n",
              "\n",
              "    .dataframe thead th {\n",
              "        text-align: right;\n",
              "    }\n",
              "</style>\n",
              "<table border=\"1\" class=\"dataframe\">\n",
              "  <thead>\n",
              "    <tr style=\"text-align: right;\">\n",
              "      <th></th>\n",
              "      <th>comments</th>\n",
              "      <th>description</th>\n",
              "      <th>duration</th>\n",
              "      <th>event</th>\n",
              "      <th>film_date</th>\n",
              "      <th>languages</th>\n",
              "      <th>main_speaker</th>\n",
              "      <th>name</th>\n",
              "      <th>num_speaker</th>\n",
              "      <th>published_date</th>\n",
              "      <th>...</th>\n",
              "      <th>url</th>\n",
              "      <th>views</th>\n",
              "      <th>related_views</th>\n",
              "      <th>day</th>\n",
              "      <th>month</th>\n",
              "      <th>year</th>\n",
              "      <th>day_film</th>\n",
              "      <th>month_film</th>\n",
              "      <th>year_film</th>\n",
              "      <th>event_category</th>\n",
              "    </tr>\n",
              "  </thead>\n",
              "  <tbody>\n",
              "    <tr>\n",
              "      <th>0</th>\n",
              "      <td>4553</td>\n",
              "      <td>Sir Ken Robinson makes an entertaining and pro...</td>\n",
              "      <td>1164</td>\n",
              "      <td>TED2006</td>\n",
              "      <td>2006-02-25</td>\n",
              "      <td>60</td>\n",
              "      <td>Ken Robinson</td>\n",
              "      <td>Ken Robinson: Do schools kill creativity?</td>\n",
              "      <td>1</td>\n",
              "      <td>2006-06-27</td>\n",
              "      <td>...</td>\n",
              "      <td>https://www.ted.com/talks/ken_robinson_says_sc...</td>\n",
              "      <td>47227110</td>\n",
              "      <td>3027062</td>\n",
              "      <td>Tuesday</td>\n",
              "      <td>June</td>\n",
              "      <td>2006</td>\n",
              "      <td>Saturday</td>\n",
              "      <td>February</td>\n",
              "      <td>2006</td>\n",
              "      <td>TED2000s</td>\n",
              "    </tr>\n",
              "  </tbody>\n",
              "</table>\n",
              "<p>1 rows × 25 columns</p>\n",
              "</div>\n",
              "      <button class=\"colab-df-convert\" onclick=\"convertToInteractive('df-0db743a5-fc77-46fe-80bb-cda03f4d7956')\"\n",
              "              title=\"Convert this dataframe to an interactive table.\"\n",
              "              style=\"display:none;\">\n",
              "        \n",
              "  <svg xmlns=\"http://www.w3.org/2000/svg\" height=\"24px\"viewBox=\"0 0 24 24\"\n",
              "       width=\"24px\">\n",
              "    <path d=\"M0 0h24v24H0V0z\" fill=\"none\"/>\n",
              "    <path d=\"M18.56 5.44l.94 2.06.94-2.06 2.06-.94-2.06-.94-.94-2.06-.94 2.06-2.06.94zm-11 1L8.5 8.5l.94-2.06 2.06-.94-2.06-.94L8.5 2.5l-.94 2.06-2.06.94zm10 10l.94 2.06.94-2.06 2.06-.94-2.06-.94-.94-2.06-.94 2.06-2.06.94z\"/><path d=\"M17.41 7.96l-1.37-1.37c-.4-.4-.92-.59-1.43-.59-.52 0-1.04.2-1.43.59L10.3 9.45l-7.72 7.72c-.78.78-.78 2.05 0 2.83L4 21.41c.39.39.9.59 1.41.59.51 0 1.02-.2 1.41-.59l7.78-7.78 2.81-2.81c.8-.78.8-2.07 0-2.86zM5.41 20L4 18.59l7.72-7.72 1.47 1.35L5.41 20z\"/>\n",
              "  </svg>\n",
              "      </button>\n",
              "      \n",
              "  <style>\n",
              "    .colab-df-container {\n",
              "      display:flex;\n",
              "      flex-wrap:wrap;\n",
              "      gap: 12px;\n",
              "    }\n",
              "\n",
              "    .colab-df-convert {\n",
              "      background-color: #E8F0FE;\n",
              "      border: none;\n",
              "      border-radius: 50%;\n",
              "      cursor: pointer;\n",
              "      display: none;\n",
              "      fill: #1967D2;\n",
              "      height: 32px;\n",
              "      padding: 0 0 0 0;\n",
              "      width: 32px;\n",
              "    }\n",
              "\n",
              "    .colab-df-convert:hover {\n",
              "      background-color: #E2EBFA;\n",
              "      box-shadow: 0px 1px 2px rgba(60, 64, 67, 0.3), 0px 1px 3px 1px rgba(60, 64, 67, 0.15);\n",
              "      fill: #174EA6;\n",
              "    }\n",
              "\n",
              "    [theme=dark] .colab-df-convert {\n",
              "      background-color: #3B4455;\n",
              "      fill: #D2E3FC;\n",
              "    }\n",
              "\n",
              "    [theme=dark] .colab-df-convert:hover {\n",
              "      background-color: #434B5C;\n",
              "      box-shadow: 0px 1px 3px 1px rgba(0, 0, 0, 0.15);\n",
              "      filter: drop-shadow(0px 1px 2px rgba(0, 0, 0, 0.3));\n",
              "      fill: #FFFFFF;\n",
              "    }\n",
              "  </style>\n",
              "\n",
              "      <script>\n",
              "        const buttonEl =\n",
              "          document.querySelector('#df-0db743a5-fc77-46fe-80bb-cda03f4d7956 button.colab-df-convert');\n",
              "        buttonEl.style.display =\n",
              "          google.colab.kernel.accessAllowed ? 'block' : 'none';\n",
              "\n",
              "        async function convertToInteractive(key) {\n",
              "          const element = document.querySelector('#df-0db743a5-fc77-46fe-80bb-cda03f4d7956');\n",
              "          const dataTable =\n",
              "            await google.colab.kernel.invokeFunction('convertToInteractive',\n",
              "                                                     [key], {});\n",
              "          if (!dataTable) return;\n",
              "\n",
              "          const docLinkHtml = 'Like what you see? Visit the ' +\n",
              "            '<a target=\"_blank\" href=https://colab.research.google.com/notebooks/data_table.ipynb>data table notebook</a>'\n",
              "            + ' to learn more about interactive tables.';\n",
              "          element.innerHTML = '';\n",
              "          dataTable['output_type'] = 'display_data';\n",
              "          await google.colab.output.renderOutput(dataTable, element);\n",
              "          const docLink = document.createElement('div');\n",
              "          docLink.innerHTML = docLinkHtml;\n",
              "          element.appendChild(docLink);\n",
              "        }\n",
              "      </script>\n",
              "    </div>\n",
              "  </div>\n",
              "  "
            ]
          },
          "metadata": {},
          "execution_count": 15
        }
      ]
    },
    {
      "cell_type": "code",
      "source": [],
      "metadata": {
        "id": "e4RBcX-p5B2E"
      },
      "execution_count": null,
      "outputs": []
    },
    {
      "cell_type": "markdown",
      "metadata": {
        "id": "WykOMg68qIoa"
      },
      "source": [
        "## Final touches on the dataset\n",
        "I take out the views and comments and the rest of the features I won't be using."
      ]
    },
    {
      "cell_type": "markdown",
      "source": [
        "# New section"
      ],
      "metadata": {
        "id": "UIEriYts_q7F"
      }
    },
    {
      "cell_type": "code",
      "execution_count": null,
      "metadata": {
        "id": "tCJt3ofMqIob",
        "colab": {
          "base_uri": "https://localhost:8080/",
          "height": 206
        },
        "outputId": "5c1c4c21-1d2d-4cad-eccf-05fae0e731a8"
      },
      "outputs": [
        {
          "output_type": "execute_result",
          "data": {
            "text/plain": [
              "   duration  languages  num_speaker  related_views      day month  year  \\\n",
              "0      1164         60            1        3027062  Tuesday  June  2006   \n",
              "1       977         43            1        1118767  Tuesday  June  2006   \n",
              "2      1286         26            1        1846195  Tuesday  June  2006   \n",
              "3      1116         35            1         776189  Tuesday  June  2006   \n",
              "4      1190         48            1        1907337  Tuesday  June  2006   \n",
              "\n",
              "    day_film month_film year_film event_category  \n",
              "0   Saturday   February      2006       TED2000s  \n",
              "1   Saturday   February      2006       TED2000s  \n",
              "2     Friday   February      2006       TED2000s  \n",
              "3     Sunday   February      2006       TED2000s  \n",
              "4  Wednesday   February      2006       TED2000s  "
            ],
            "text/html": [
              "\n",
              "  <div id=\"df-94393bda-973a-43df-8c52-f5a439c4210c\">\n",
              "    <div class=\"colab-df-container\">\n",
              "      <div>\n",
              "<style scoped>\n",
              "    .dataframe tbody tr th:only-of-type {\n",
              "        vertical-align: middle;\n",
              "    }\n",
              "\n",
              "    .dataframe tbody tr th {\n",
              "        vertical-align: top;\n",
              "    }\n",
              "\n",
              "    .dataframe thead th {\n",
              "        text-align: right;\n",
              "    }\n",
              "</style>\n",
              "<table border=\"1\" class=\"dataframe\">\n",
              "  <thead>\n",
              "    <tr style=\"text-align: right;\">\n",
              "      <th></th>\n",
              "      <th>duration</th>\n",
              "      <th>languages</th>\n",
              "      <th>num_speaker</th>\n",
              "      <th>related_views</th>\n",
              "      <th>day</th>\n",
              "      <th>month</th>\n",
              "      <th>year</th>\n",
              "      <th>day_film</th>\n",
              "      <th>month_film</th>\n",
              "      <th>year_film</th>\n",
              "      <th>event_category</th>\n",
              "    </tr>\n",
              "  </thead>\n",
              "  <tbody>\n",
              "    <tr>\n",
              "      <th>0</th>\n",
              "      <td>1164</td>\n",
              "      <td>60</td>\n",
              "      <td>1</td>\n",
              "      <td>3027062</td>\n",
              "      <td>Tuesday</td>\n",
              "      <td>June</td>\n",
              "      <td>2006</td>\n",
              "      <td>Saturday</td>\n",
              "      <td>February</td>\n",
              "      <td>2006</td>\n",
              "      <td>TED2000s</td>\n",
              "    </tr>\n",
              "    <tr>\n",
              "      <th>1</th>\n",
              "      <td>977</td>\n",
              "      <td>43</td>\n",
              "      <td>1</td>\n",
              "      <td>1118767</td>\n",
              "      <td>Tuesday</td>\n",
              "      <td>June</td>\n",
              "      <td>2006</td>\n",
              "      <td>Saturday</td>\n",
              "      <td>February</td>\n",
              "      <td>2006</td>\n",
              "      <td>TED2000s</td>\n",
              "    </tr>\n",
              "    <tr>\n",
              "      <th>2</th>\n",
              "      <td>1286</td>\n",
              "      <td>26</td>\n",
              "      <td>1</td>\n",
              "      <td>1846195</td>\n",
              "      <td>Tuesday</td>\n",
              "      <td>June</td>\n",
              "      <td>2006</td>\n",
              "      <td>Friday</td>\n",
              "      <td>February</td>\n",
              "      <td>2006</td>\n",
              "      <td>TED2000s</td>\n",
              "    </tr>\n",
              "    <tr>\n",
              "      <th>3</th>\n",
              "      <td>1116</td>\n",
              "      <td>35</td>\n",
              "      <td>1</td>\n",
              "      <td>776189</td>\n",
              "      <td>Tuesday</td>\n",
              "      <td>June</td>\n",
              "      <td>2006</td>\n",
              "      <td>Sunday</td>\n",
              "      <td>February</td>\n",
              "      <td>2006</td>\n",
              "      <td>TED2000s</td>\n",
              "    </tr>\n",
              "    <tr>\n",
              "      <th>4</th>\n",
              "      <td>1190</td>\n",
              "      <td>48</td>\n",
              "      <td>1</td>\n",
              "      <td>1907337</td>\n",
              "      <td>Tuesday</td>\n",
              "      <td>June</td>\n",
              "      <td>2006</td>\n",
              "      <td>Wednesday</td>\n",
              "      <td>February</td>\n",
              "      <td>2006</td>\n",
              "      <td>TED2000s</td>\n",
              "    </tr>\n",
              "  </tbody>\n",
              "</table>\n",
              "</div>\n",
              "      <button class=\"colab-df-convert\" onclick=\"convertToInteractive('df-94393bda-973a-43df-8c52-f5a439c4210c')\"\n",
              "              title=\"Convert this dataframe to an interactive table.\"\n",
              "              style=\"display:none;\">\n",
              "        \n",
              "  <svg xmlns=\"http://www.w3.org/2000/svg\" height=\"24px\"viewBox=\"0 0 24 24\"\n",
              "       width=\"24px\">\n",
              "    <path d=\"M0 0h24v24H0V0z\" fill=\"none\"/>\n",
              "    <path d=\"M18.56 5.44l.94 2.06.94-2.06 2.06-.94-2.06-.94-.94-2.06-.94 2.06-2.06.94zm-11 1L8.5 8.5l.94-2.06 2.06-.94-2.06-.94L8.5 2.5l-.94 2.06-2.06.94zm10 10l.94 2.06.94-2.06 2.06-.94-2.06-.94-.94-2.06-.94 2.06-2.06.94z\"/><path d=\"M17.41 7.96l-1.37-1.37c-.4-.4-.92-.59-1.43-.59-.52 0-1.04.2-1.43.59L10.3 9.45l-7.72 7.72c-.78.78-.78 2.05 0 2.83L4 21.41c.39.39.9.59 1.41.59.51 0 1.02-.2 1.41-.59l7.78-7.78 2.81-2.81c.8-.78.8-2.07 0-2.86zM5.41 20L4 18.59l7.72-7.72 1.47 1.35L5.41 20z\"/>\n",
              "  </svg>\n",
              "      </button>\n",
              "      \n",
              "  <style>\n",
              "    .colab-df-container {\n",
              "      display:flex;\n",
              "      flex-wrap:wrap;\n",
              "      gap: 12px;\n",
              "    }\n",
              "\n",
              "    .colab-df-convert {\n",
              "      background-color: #E8F0FE;\n",
              "      border: none;\n",
              "      border-radius: 50%;\n",
              "      cursor: pointer;\n",
              "      display: none;\n",
              "      fill: #1967D2;\n",
              "      height: 32px;\n",
              "      padding: 0 0 0 0;\n",
              "      width: 32px;\n",
              "    }\n",
              "\n",
              "    .colab-df-convert:hover {\n",
              "      background-color: #E2EBFA;\n",
              "      box-shadow: 0px 1px 2px rgba(60, 64, 67, 0.3), 0px 1px 3px 1px rgba(60, 64, 67, 0.15);\n",
              "      fill: #174EA6;\n",
              "    }\n",
              "\n",
              "    [theme=dark] .colab-df-convert {\n",
              "      background-color: #3B4455;\n",
              "      fill: #D2E3FC;\n",
              "    }\n",
              "\n",
              "    [theme=dark] .colab-df-convert:hover {\n",
              "      background-color: #434B5C;\n",
              "      box-shadow: 0px 1px 3px 1px rgba(0, 0, 0, 0.15);\n",
              "      filter: drop-shadow(0px 1px 2px rgba(0, 0, 0, 0.3));\n",
              "      fill: #FFFFFF;\n",
              "    }\n",
              "  </style>\n",
              "\n",
              "      <script>\n",
              "        const buttonEl =\n",
              "          document.querySelector('#df-94393bda-973a-43df-8c52-f5a439c4210c button.colab-df-convert');\n",
              "        buttonEl.style.display =\n",
              "          google.colab.kernel.accessAllowed ? 'block' : 'none';\n",
              "\n",
              "        async function convertToInteractive(key) {\n",
              "          const element = document.querySelector('#df-94393bda-973a-43df-8c52-f5a439c4210c');\n",
              "          const dataTable =\n",
              "            await google.colab.kernel.invokeFunction('convertToInteractive',\n",
              "                                                     [key], {});\n",
              "          if (!dataTable) return;\n",
              "\n",
              "          const docLinkHtml = 'Like what you see? Visit the ' +\n",
              "            '<a target=\"_blank\" href=https://colab.research.google.com/notebooks/data_table.ipynb>data table notebook</a>'\n",
              "            + ' to learn more about interactive tables.';\n",
              "          element.innerHTML = '';\n",
              "          dataTable['output_type'] = 'display_data';\n",
              "          await google.colab.output.renderOutput(dataTable, element);\n",
              "          const docLink = document.createElement('div');\n",
              "          docLink.innerHTML = docLinkHtml;\n",
              "          element.appendChild(docLink);\n",
              "        }\n",
              "      </script>\n",
              "    </div>\n",
              "  </div>\n",
              "  "
            ]
          },
          "metadata": {},
          "execution_count": 17
        }
      ],
      "source": [
        "views = data['views']\n",
        "comments = data['comments']\n",
        "data = data.drop(['comments', 'description', 'event', 'film_date', 'main_speaker', 'name', 'published_date', 'ratings', \n",
        "           'related_talks', 'tags', 'title', 'url', 'views', 'speaker_occupation', ], 1)\n",
        "data.head()"
      ]
    },
    {
      "cell_type": "code",
      "source": [
        "#data is datframe\n",
        "#csv_data = data.to_csv() \n",
        "\n",
        "\n",
        "data.to_csv(r'C:\\Users\\mahad\\Documents\\cleaned_dataframe.csv', index=False, header=True)\n",
        "\n"
      ],
      "metadata": {
        "id": "2qNORsC9zk8T"
      },
      "execution_count": null,
      "outputs": []
    },
    {
      "cell_type": "code",
      "source": [
        "print(data.columns.tolist())"
      ],
      "metadata": {
        "id": "xq_6-cBSxw1X",
        "colab": {
          "base_uri": "https://localhost:8080/"
        },
        "outputId": "080c229c-1890-44f3-b9b2-8d552930b095"
      },
      "execution_count": null,
      "outputs": [
        {
          "output_type": "stream",
          "name": "stdout",
          "text": [
            "['duration', 'languages', 'num_speaker', 'related_views', 'day', 'month', 'year', 'day_film', 'month_film', 'year_film', 'event_category']\n"
          ]
        }
      ]
    },
    {
      "cell_type": "markdown",
      "metadata": {
        "id": "6FVUZqFCqIod"
      },
      "source": [
        "I apply **One-Hot-Encoding** on the categorical attributes and get the data ready for training machine learning models. Then I print out the dimensions of the final dataset."
      ]
    },
    {
      "cell_type": "code",
      "execution_count": null,
      "metadata": {
        "id": "KR7-SQkuqIoe",
        "colab": {
          "base_uri": "https://localhost:8080/"
        },
        "outputId": "92d12b43-733c-4843-d184-c95173a21656"
      },
      "outputs": [
        {
          "output_type": "execute_result",
          "data": {
            "text/plain": [
              "(2550, 89)"
            ]
          },
          "metadata": {},
          "execution_count": 20
        }
      ],
      "source": [
        "# data2 = data.filter(like='_tag', axis=1)\n",
        "# data = data.drop(data2.columns, 1)\n",
        "# data.head()\n",
        "data_final = pd.get_dummies(data)\n",
        "data_final.shape"
      ]
    },
    {
      "cell_type": "markdown",
      "metadata": {
        "id": "UGVu6U9IqIof"
      },
      "source": [
        "# Machine Learning\n",
        "## Random Forest\n",
        "First model I will be testing with is **Random Forest** as this is the one I'm most comfortable with. I will then explore some other ML models, optimise the hyperparameters of each model, and combine those into an ensebmle model.\n",
        "\n",
        "I split the dataset in training (90%) and test (10%) sets. The test data will be later used to validate the ML models on unseen data. I start off with a **Random Forest** as it's quite a powerful model that can be used as a baseline. I will use **Mean Absolute Error (MAE)** to measure the error as it will give us a more intuitive understanding of how accurate the model is. Additionally, using **Mean Squared Error (MSE)** to predict target variables with large values (such as the TED Talks views I'm working with) can lead to problems."
      ]
    },
    {
      "cell_type": "code",
      "execution_count": null,
      "metadata": {
        "id": "NyS-CmYlqIol"
      },
      "outputs": [],
      "source": [
        "X_train, X_test, y_train, y_test = train_test_split(data_final, views, test_size=0.1, random_state=121212)"
      ]
    },
    {
      "cell_type": "markdown",
      "metadata": {
        "id": "pqV9QMr2qIom"
      },
      "source": [
        "The baseline Random Forest model seems to have overfitted. Together with the **MAE** of the model I also print the **mean** and **std** of the target variables. Judging by the high variance of the data, it's safe to conclude that the model is performing reasonably well."
      ]
    },
    {
      "cell_type": "code",
      "execution_count": null,
      "metadata": {
        "id": "q5PZNFm2qIon",
        "colab": {
          "base_uri": "https://localhost:8080/"
        },
        "outputId": "485a0249-a63e-4f44-cbfc-a10daea90c6e"
      },
      "outputs": [
        {
          "output_type": "stream",
          "name": "stdout",
          "text": [
            "Training MAE: 458747.60\n",
            "Test MAE: 646002.69\n",
            "Views mean: 1698297.48\n",
            "Views std: 2498479.37\n"
          ]
        }
      ],
      "source": [
        "rf = RandomForestRegressor(criterion='mae',max_depth=15, max_features=45, n_estimators=500, min_samples_leaf=2, min_samples_split=2,\n",
        "                           random_state=2019)\n",
        "rf.fit(X_train, y_train)\n",
        "y_pred = rf.predict(X_train)\n",
        "y_test_pred = rf.predict(X_test)\n",
        "print('Training MAE: {:0.2f}'.format(metrics.mean_absolute_error(y_train, y_pred)))\n",
        "print('Test MAE: {:0.2f}'.format(metrics.mean_absolute_error(y_test, y_test_pred)))\n",
        "print('Views mean: {:0.2f}'.format(views.mean()))\n",
        "print('Views std: {:0.2f}'.format(views.std()))"
      ]
    },
    {
      "cell_type": "markdown",
      "source": [],
      "metadata": {
        "id": "OkrUoprT_td9"
      }
    },
    {
      "cell_type": "markdown",
      "source": [
        "# Feature Importances"
      ],
      "metadata": {
        "id": "Vy5JA_zC_uIL"
      }
    },
    {
      "cell_type": "code",
      "source": [
        "importances = pd.DataFrame({'Features': X_train.columns, \n",
        "                                'Importances': rf.feature_importances_})\n",
        "    \n",
        "importances.sort_values(by=['Importances'], axis='index', ascending=False, inplace=True)\n",
        "fig = plt.figure(figsize=(14, 4))\n",
        "sns.barplot(x='Features', y='Importances', data=importances)\n",
        "plt.xticks(rotation='vertical')\n",
        "plt.show()\n"
      ],
      "metadata": {
        "colab": {
          "base_uri": "https://localhost:8080/",
          "height": 409
        },
        "id": "D6wSED2B_xpK",
        "outputId": "e5ef0215-340a-426a-ae50-f7fcd6c05864"
      },
      "execution_count": null,
      "outputs": [
        {
          "output_type": "display_data",
          "data": {
            "text/plain": [
              "<Figure size 1008x288 with 1 Axes>"
            ],
            "image/png": "[encoded data removed]"
          },
          "metadata": {
            "needs_background": "light"
          }
        }
      ]
    },
    {
      "cell_type": "markdown",
      "metadata": {
        "id": "vELVYA93qIop"
      },
      "source": [
        "## XGBRegressor\n",
        "Good accuracy, the model tends to overfit quite easily when **n_estimators > 20**. Maybe it's worth exploring wether we can use a higher **n_estimators** value while using the other hyperparameters to reguralise the model."
      ]
    },
    {
      "cell_type": "code",
      "execution_count": null,
      "metadata": {
        "id": "MCHzKWg2qIoq",
        "colab": {
          "base_uri": "https://localhost:8080/"
        },
        "outputId": "dc0e4293-f1db-4eee-8377-9799976242f5"
      },
      "outputs": [
        {
          "output_type": "stream",
          "name": "stdout",
          "text": [
            "[10:38:24] WARNING: /workspace/src/objective/regression_obj.cu:152: reg:linear is now deprecated in favor of reg:squarederror.\n",
            "Training MAE: 495106.41\n",
            "Test MAE: 640284.68\n"
          ]
        }
      ],
      "source": [
        "xgbr = xgb.XGBRegressor(criterion='mae', earning_rate=0.1, max_depth=10, subsample=0.5, n_estimators=20, min_child_weight=2, random_state=2019)\n",
        "xgbr.fit(X_train, y_train)\n",
        "y_pred = xgbr.predict(X_train)\n",
        "y_test_pred = xgbr.predict(X_test)\n",
        "print('Training MAE: {:0.2f}'.format(metrics.mean_absolute_error(y_train, y_pred)))\n",
        "print('Test MAE: {:0.2f}'.format(metrics.mean_absolute_error(y_test, y_test_pred)))"
      ]
    },
    {
      "cell_type": "markdown",
      "metadata": {
        "id": "bfjAr6zgqIor"
      },
      "source": [
        "## ExtraTreesRegressor\n",
        "ExtraTreesRegressor yields the best accuracy, maybe can reguralise the model better as the gap between Training and Test MAE is quite big?"
      ]
    },
    {
      "cell_type": "code",
      "execution_count": 29,
      "metadata": {
        "id": "SNbOT_zXqIos",
        "colab": {
          "base_uri": "https://localhost:8080/"
        },
        "outputId": "c05aa8c6-9719-40c5-9f10-abe348c00927"
      },
      "outputs": [
        {
          "output_type": "stream",
          "name": "stdout",
          "text": [
            "Training MAE: 297677.09\n",
            "Test MAE: 588787.82\n"
          ]
        }
      ],
      "source": [
        "et = ExtraTreesRegressor(criterion='mae', max_depth=30, n_estimators=1000, random_state=2019, min_samples_leaf=2, min_samples_split=6)\n",
        "et.fit(X_train, y_train)\n",
        "y_pred = et.predict(X_train)\n",
        "y_test_pred = et.predict(X_test)\n",
        "print('Training MAE: {:0.2f}'.format(metrics.mean_absolute_error(y_train, y_pred)))\n",
        "print('Test MAE: {:0.2f}'.format(metrics.mean_absolute_error(y_test, y_test_pred)))"
      ]
    },
    {
      "cell_type": "markdown",
      "source": [],
      "metadata": {
        "id": "X-9sUZ8A-HCS"
      }
    },
    {
      "cell_type": "markdown",
      "source": [
        "# Model evaluation "
      ],
      "metadata": {
        "id": "SsLpdWqz-H2w"
      }
    },
    {
      "cell_type": "code",
      "source": [],
      "metadata": {
        "id": "mMvc_xEL-Mx8"
      },
      "execution_count": null,
      "outputs": []
    },
    {
      "cell_type": "markdown",
      "source": [
        "9. Final selection of the model\n",
        "i choose MAE as  deciding factor of our model selection because of the following reasons:\n",
        "\n",
        "\n",
        "\n",
        "MAE doesn’t increase with outliers. MAE is linear \n",
        "\n",
        "The best performing regressor model for this dataset is Random Forest Regressor on the basis of MAE."
      ],
      "metadata": {
        "id": "dKh07lAXBYSP"
      }
    },
    {
      "cell_type": "markdown",
      "source": [],
      "metadata": {
        "id": "Q1F6hV7BBYIv"
      }
    }
  ],
  "metadata": {
    "kernelspec": {
      "display_name": "Python 3",
      "language": "python",
      "name": "python3"
    },
    "language_info": {
      "codemirror_mode": {
        "name": "ipython",
        "version": 3
      },
      "file_extension": ".py",
      "mimetype": "text/x-python",
      "name": "python",
      "nbconvert_exporter": "python",
      "pygments_lexer": "ipython3",
      "version": "3.6.6"
    },
    "colab": {
      "provenance": []
    }
  },
  "nbformat": 4,
  "nbformat_minor": 0
}